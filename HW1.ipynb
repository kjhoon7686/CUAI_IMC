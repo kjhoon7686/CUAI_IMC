{
  "nbformat": 4,
  "nbformat_minor": 0,
  "metadata": {
    "colab": {
      "name": "HW1.ipynb",
      "private_outputs": true,
      "provenance": [],
      "collapsed_sections": [],
      "authorship_tag": "ABX9TyP3eQtLpr669bEZPn1bJoQv",
      "include_colab_link": true
    },
    "kernelspec": {
      "name": "ir",
      "display_name": "R"
    }
  },
  "cells": [
    {
      "cell_type": "markdown",
      "metadata": {
        "id": "view-in-github",
        "colab_type": "text"
      },
      "source": [
        "<a href=\"https://colab.research.google.com/github/kjhoon7686/prac_class/blob/main/HW1.ipynb\" target=\"_parent\"><img src=\"https://colab.research.google.com/assets/colab-badge.svg\" alt=\"Open In Colab\"/></a>"
      ]
    },
    {
      "cell_type": "code",
      "metadata": {
        "id": "DYDlaLR-qciD"
      },
      "source": [
        "library(tidyverse)"
      ],
      "execution_count": null,
      "outputs": []
    },
    {
      "cell_type": "code",
      "metadata": {
        "id": "RYHXbANjWCN-"
      },
      "source": [
        "# install.packages(\"nycflights13\")"
      ],
      "execution_count": null,
      "outputs": []
    },
    {
      "cell_type": "code",
      "metadata": {
        "id": "-BnYCgJxq_2f"
      },
      "source": [
        "library(nycflights13)"
      ],
      "execution_count": null,
      "outputs": []
    },
    {
      "cell_type": "code",
      "metadata": {
        "id": "4pI-Go3VrGGf"
      },
      "source": [
        "flights %>% head()"
      ],
      "execution_count": null,
      "outputs": []
    },
    {
      "cell_type": "code",
      "metadata": {
        "id": "_BIbiQAWsrqi"
      },
      "source": [
        "flights %>% filter( month == 12, day == 25)  %>% summarise(air_time) %>% arrange(desc(air_time))"
      ],
      "execution_count": null,
      "outputs": []
    },
    {
      "cell_type": "code",
      "metadata": {
        "id": "1_NgA5n-yZP6"
      },
      "source": [
        "flights %>% filter(month == 12 & day == 25 & dest == 'ORD') %>% head()"
      ],
      "execution_count": null,
      "outputs": []
    },
    {
      "cell_type": "code",
      "metadata": {
        "id": "eWcw7jOURsmr"
      },
      "source": [
        "flights %>% select(year:day, ends_with(\"delay\"), distance, air_time) %>% mutate(gain = dep_delay-arr_delay,hours = air_time/ 60,gain_per_hour= gain / hours)"
      ],
      "execution_count": null,
      "outputs": []
    },
    {
      "cell_type": "code",
      "metadata": {
        "id": "73FWZQfzT8qZ"
      },
      "source": [
        "flights %>% group_by(year, month, day) %>% summarise(delay = mean(dep_delay, na.rm = TRUE))"
      ],
      "execution_count": null,
      "outputs": []
    },
    {
      "cell_type": "code",
      "metadata": {
        "id": "nP4d4ratUDWq"
      },
      "source": [
        "rename(flights, tail_num = tailnum) %>% head"
      ],
      "execution_count": null,
      "outputs": []
    },
    {
      "cell_type": "code",
      "metadata": {
        "id": "LZeOfOFXUqyW"
      },
      "source": [
        "ggplot(data = flights) + geom_histogram(aes(x= dep_delay, bins=1))"
      ],
      "execution_count": null,
      "outputs": []
    },
    {
      "cell_type": "code",
      "metadata": {
        "id": "XbrTnHq1Vpes"
      },
      "source": [
        "ggplot(data = flights) + geom_boxplot(aes(x = origin, y = dep_delay))"
      ],
      "execution_count": null,
      "outputs": []
    },
    {
      "cell_type": "code",
      "metadata": {
        "id": "vAEsrHWTVtIs"
      },
      "source": [
        "ggplot(flights, aes(x=factor(month), y=dep_delay)) +stat_summary(fun.y=\"mean\", geom=\"bar\")"
      ],
      "execution_count": null,
      "outputs": []
    },
    {
      "cell_type": "code",
      "metadata": {
        "id": "h4XregJxV6M5"
      },
      "source": [
        ""
      ],
      "execution_count": null,
      "outputs": []
    },
    {
      "cell_type": "code",
      "metadata": {
        "id": "_aOFYdffWBP3"
      },
      "source": [
        ""
      ],
      "execution_count": null,
      "outputs": []
    }
  ]
}