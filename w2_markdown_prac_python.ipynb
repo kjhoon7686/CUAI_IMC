{
  "nbformat": 4,
  "nbformat_minor": 0,
  "metadata": {
    "colab": {
      "name": "Untitled0.ipynb",
      "private_outputs": true,
      "provenance": [],
      "collapsed_sections": [],
      "authorship_tag": "ABX9TyM2ufGELX0v1LXOKAUTh0qx",
      "include_colab_link": true
    },
    "kernelspec": {
      "name": "python3",
      "display_name": "Python 3"
    }
  },
  "cells": [
    {
      "cell_type": "markdown",
      "metadata": {
        "id": "view-in-github",
        "colab_type": "text"
      },
      "source": [
        "<a href=\"https://colab.research.google.com/github/kjhoon7686/prac_class/blob/main/w2_markdown_prac_python.ipynb\" target=\"_parent\"><img src=\"https://colab.research.google.com/assets/colab-badge.svg\" alt=\"Open In Colab\"/></a>"
      ]
    },
    {
      "cell_type": "markdown",
      "metadata": {
        "id": "aXeo7vGIZAjE"
      },
      "source": [
        "### markdown practice pyhton"
      ]
    },
    {
      "cell_type": "code",
      "metadata": {
        "id": "M7x2_CPAXxb9"
      },
      "source": [
        "import pandas as pd  \r\n",
        "import numpy as np"
      ],
      "execution_count": null,
      "outputs": []
    },
    {
      "cell_type": "code",
      "metadata": {
        "id": "30SvY_jXX1gt"
      },
      "source": [
        "from sklearn.datasets import load_iris\r\n",
        "iris = load_iris()\r\n",
        "irisDF = pd.DataFrame(data=iris.data, columns=['sepal_length','sepal_width','petal_length','petal_width'])\r\n",
        "irisDF.head(3)"
      ],
      "execution_count": null,
      "outputs": []
    }
  ]
}